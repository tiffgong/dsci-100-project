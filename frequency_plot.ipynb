{
 "cells": [
  {
   "cell_type": "code",
   "execution_count": null,
   "id": "699916a8-b7ad-4baf-bbf6-292c29c54b4b",
   "metadata": {},
   "outputs": [],
   "source": [
    "\n",
    "wine_scaled <- select(wine, fixed.acidity:alcohol)\n",
    "wine_scaled <- scale(wine_scaled)\n",
    "breaks = seq(-3, 3, by=0.3)\n",
    "wine_scaled <- as.data.frame(wine_scaled)\n",
    "x1 <- table(cut(wine_scaled$fixed.acidity, breaks))\n",
    "x2 <- table(cut(wine_scaled$volatile.acidity, breaks))\n",
    "x3 <- table(cut(wine_scaled$citric.acid, breaks))\n",
    "x4 <- table(cut(wine_scaled$residual.sugar, breaks))\n",
    "x5 <- table(cut(wine_scaled$chlorides, breaks))\n",
    "x6 <- table(cut(wine_scaled$free.sulfur.dioxide, breaks))\n",
    "x7 <- table(cut(wine_scaled$total.sulfur.dioxide, breaks))\n",
    "x8 <- table(cut(wine_scaled$density, breaks))\n",
    "x9 <- table(cut(wine_scaled$pH, breaks))\n",
    "x10 <- table(cut(wine_scaled$sulphates, breaks))\n",
    "x11 <- table(cut(wine_scaled$alcohol, breaks))\n",
    "\n",
    "wine_frequency <- data.frame(rbind(x1, x2, x3, x4, x5, x6, x7, x8, x9, x10, x11))\n",
    "wine_frequency <- data.frame(t(wine_frequency[-1]))\n",
    "wine_frequency$Value <- c(seq(-2.7, 2.7, by=0.3))\n",
    "\n",
    "colnames(wine_frequency) <- c(\n",
    "    \"fixed-acidity\",\n",
    "    \"volatile-acidity\",\n",
    "    \"citric-acid\",\n",
    "    \"residual-sugar\",\n",
    "    \"chlorides\",\n",
    "    \"free-sulfur-dioxide\",\n",
    "    \"total-sulfur-dioxide\",\n",
    "    \"density\",\n",
    "    \"pH\",\n",
    "    \"sulphates\",\n",
    "    \"alcohol\",\n",
    "    \"Value\")\n",
    "\n",
    "wine_frequency <- pivot_longer(wine_frequency, \n",
    "    cols = \"fixed-acidity\":\"alcohol\",\n",
    "    names_to = \"Property\",\n",
    "    values_to = \"Frequency\")\n",
    "\n",
    "options(repr.plot.width = 15, repr.plot.height = 12)\n",
    "wine_plot <- ggplot(wine_frequency, aes(x = Value, y = Frequency, colour = Property)) +\n",
    "    geom_line() +\n",
    "    xlab(\"Value (scaled, standard deviation of 1)\") +\n",
    "    theme(text = element_text(size = 20))\n",
    "\n",
    "wine_plot"
   ]
  }
 ],
 "metadata": {
  "kernelspec": {
   "display_name": "R",
   "language": "R",
   "name": "ir"
  },
  "language_info": {
   "codemirror_mode": "r",
   "file_extension": ".r",
   "mimetype": "text/x-r-source",
   "name": "R",
   "pygments_lexer": "r",
   "version": "4.1.3"
  }
 },
 "nbformat": 4,
 "nbformat_minor": 5
}
